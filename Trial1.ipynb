{
 "cells": [
  {
   "cell_type": "code",
   "execution_count": 1,
   "metadata": {},
   "outputs": [
    {
     "name": "stdout",
     "output_type": "stream",
     "text": [
      "    Brand          Model  Price\n",
      "0  Lenovo      X1 Carbon   1600\n",
      "1    Dell         XPS 13   1200\n",
      "2   Razer  Blade Stealth   1500\n",
      "3    Acer        Nitro 5    730\n"
     ]
    }
   ],
   "source": [
    "import pandas as pd\n",
    "df=pd.DataFrame(\n",
    "{\n",
    "    \"Brand\":['Lenovo','Dell','Razer','Acer'],\n",
    "    \"Model\":[\"X1 Carbon\", \"XPS 13\",\"Blade Stealth\",\"Nitro 5\"],\n",
    "    \"Price\":[1600, 1200, 1500, 730],\n",
    "    \n",
    "})\n",
    "print(df)"
   ]
  },
  {
   "cell_type": "code",
   "execution_count": 2,
   "metadata": {},
   "outputs": [
    {
     "name": "stdout",
     "output_type": "stream",
     "text": [
      "<class 'pandas.core.frame.DataFrame'>\n",
      "RangeIndex: 4 entries, 0 to 3\n",
      "Data columns (total 3 columns):\n",
      " #   Column  Non-Null Count  Dtype \n",
      "---  ------  --------------  ----- \n",
      " 0   Brand   4 non-null      object\n",
      " 1   Model   4 non-null      object\n",
      " 2   Price   4 non-null      int64 \n",
      "dtypes: int64(1), object(2)\n",
      "memory usage: 224.0+ bytes\n",
      "None\n"
     ]
    }
   ],
   "source": [
    "print(df.info())"
   ]
  },
  {
   "cell_type": "code",
   "execution_count": 3,
   "metadata": {},
   "outputs": [
    {
     "name": "stdout",
     "output_type": "stream",
     "text": [
      "    Brand      Model  Price\n",
      "0  Lenovo  X1 Carbon   1600\n",
      "1    Dell     XPS 13   1200\n",
      "   Brand          Model  Price\n",
      "2  Razer  Blade Stealth   1500\n",
      "3   Acer        Nitro 5    730\n"
     ]
    }
   ],
   "source": [
    "print(df.head(2))\n",
    "print(df.tail(2))"
   ]
  },
  {
   "cell_type": "code",
   "execution_count": 4,
   "metadata": {},
   "outputs": [
    {
     "name": "stdout",
     "output_type": "stream",
     "text": [
      "Collecting package metadata (current_repodata.json): ...working... done\n",
      "Solving environment: ...working... done\n",
      "\n",
      "## Package Plan ##\n",
      "\n",
      "  environment location: C:\\Users\\rajbh\\Anaconda3\n",
      "\n",
      "  added / updated specs:\n",
      "    - git\n",
      "\n",
      "\n",
      "The following packages will be downloaded:\n",
      "\n",
      "    package                    |            build\n",
      "    ---------------------------|-----------------\n",
      "    git-2.23.0                 |       h6bb4b03_0        10.5 MB\n",
      "    ------------------------------------------------------------\n",
      "                                           Total:        10.5 MB\n",
      "\n",
      "The following NEW packages will be INSTALLED:\n",
      "\n",
      "  git                pkgs/main/win-64::git-2.23.0-h6bb4b03_0\n",
      "\n",
      "\n",
      "\n",
      "Downloading and Extracting Packages\n",
      "\n",
      "git-2.23.0           | 10.5 MB   |            |   0% \n",
      "git-2.23.0           | 10.5 MB   |            |   0% \n",
      "git-2.23.0           | 10.5 MB   | 1          |   1% \n",
      "git-2.23.0           | 10.5 MB   | 2          |   2% \n",
      "git-2.23.0           | 10.5 MB   | 4          |   5% \n",
      "git-2.23.0           | 10.5 MB   | 8          |   8% \n",
      "git-2.23.0           | 10.5 MB   | 9          |  10% \n",
      "git-2.23.0           | 10.5 MB   | #4         |  14% \n",
      "git-2.23.0           | 10.5 MB   | #8         |  19% \n",
      "git-2.23.0           | 10.5 MB   | ##4        |  24% \n",
      "git-2.23.0           | 10.5 MB   | ##9        |  29% \n",
      "git-2.23.0           | 10.5 MB   | ###4       |  34% \n",
      "git-2.23.0           | 10.5 MB   | ###8       |  39% \n",
      "git-2.23.0           | 10.5 MB   | ####2      |  42% \n",
      "git-2.23.0           | 10.5 MB   | #####1     |  51% \n",
      "git-2.23.0           | 10.5 MB   | #####5     |  56% \n",
      "git-2.23.0           | 10.5 MB   | #######1   |  72% \n",
      "git-2.23.0           | 10.5 MB   | #########  |  90% \n",
      "git-2.23.0           | 10.5 MB   | #########8 |  99% \n",
      "git-2.23.0           | 10.5 MB   | ########## | 100% \n",
      "Preparing transaction: ...working... done\n",
      "Verifying transaction: ...working... done\n",
      "Executing transaction: ...working... done\n",
      "\n",
      "Note: you may need to restart the kernel to use updated packages.\n"
     ]
    }
   ],
   "source": [
    "conda install git"
   ]
  },
  {
   "cell_type": "code",
   "execution_count": null,
   "metadata": {},
   "outputs": [],
   "source": []
  }
 ],
 "metadata": {
  "kernelspec": {
   "display_name": "Python 3",
   "language": "python",
   "name": "python3"
  },
  "language_info": {
   "codemirror_mode": {
    "name": "ipython",
    "version": 3
   },
   "file_extension": ".py",
   "mimetype": "text/x-python",
   "name": "python",
   "nbconvert_exporter": "python",
   "pygments_lexer": "ipython3",
   "version": "3.7.4"
  }
 },
 "nbformat": 4,
 "nbformat_minor": 4
}
